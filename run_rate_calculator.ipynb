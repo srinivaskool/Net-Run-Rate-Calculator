{
 "cells": [
  {
   "cell_type": "code",
   "execution_count": 26,
   "metadata": {},
   "outputs": [],
   "source": [
    "from tkinter import *\n",
    "\n",
    "window = Tk()\n",
    "window.wm_title(\"Net Run Rate Calculator\")\n",
    "    \n",
    "def calculate(e1_value,e2_value,e3_value,e4_value):\n",
    "     return float((e1_value.get()/e2_value.get()) - float((e3_value.get()/e4_value.get()))) \n",
    "    \n",
    "def view_calculate():\n",
    "    r1 = calculate(e1_value,e2_value,e3_value,e4_value)\n",
    "    c4.delete(0,END)\n",
    "    c4.insert(END,r1)\n",
    "\n",
    "l5 = Label(window,text=\"Net Run Rate\")\n",
    "l5.grid(row=5,column=0)    \n",
    "    \n",
    "c4_text = DoubleVar()\n",
    "c4 = Entry(window)\n",
    "c4.grid(row=5,column=1)\n",
    "\n",
    "l1 = Label(window,text=\"Total Runs Scored\")\n",
    "l1.grid(row=0,column=0)\n",
    "\n",
    "e1_value = DoubleVar()\n",
    "e1 = Entry(window,textvariable=e1_value)\n",
    "e1.grid(row=0,column=1)\n",
    "\n",
    "l2 = Label(window,text=\"Overs Faced\")\n",
    "l2.grid(row=1,column=0)\n",
    "\n",
    "e2_value = DoubleVar()\n",
    "e2 = Entry(window,textvariable=e2_value)\n",
    "e2.grid(row=1,column=1)\n",
    "\n",
    "l3 = Label(window,text=\"Total Runs Conceded\")\n",
    "l3.grid(row=2,column=0)\n",
    "\n",
    "e3_value = DoubleVar()\n",
    "e3 = Entry(window,textvariable=e3_value)\n",
    "e3.grid(row=2,column=1)\n",
    "\n",
    "l4 = Label(window,text=\"Total Overs Bowled\")\n",
    "l4.grid(row=3,column=0)\n",
    "\n",
    "e4_value = DoubleVar()\n",
    "e4 = Entry(window,textvariable=e4_value)\n",
    "e4.grid(row=3,column=1)\n",
    "\n",
    "submit = Button(window,text=\"Calculate NRR\",background=\"orange\",command=view_calculate)\n",
    "submit.grid(row=4,column=0)\n",
    "\n",
    "window.mainloop()"
   ]
  }
 ],
 "metadata": {
  "kernelspec": {
   "display_name": "Python 3",
   "language": "python",
   "name": "python3"
  },
  "language_info": {
   "codemirror_mode": {
    "name": "ipython",
    "version": 3
   },
   "file_extension": ".py",
   "mimetype": "text/x-python",
   "name": "python",
   "nbconvert_exporter": "python",
   "pygments_lexer": "ipython3",
   "version": "3.7.0"
  }
 },
 "nbformat": 4,
 "nbformat_minor": 2
}
